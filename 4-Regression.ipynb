{
 "cells": [
  {
   "cell_type": "markdown",
   "metadata": {},
   "source": [
    "## Regression"
   ]
  },
  {
   "cell_type": "code",
   "execution_count": null,
   "metadata": {},
   "outputs": [],
   "source": [
    "import pandas as pd\n",
    "\n",
    "import statsmodels.api as sm\n",
    "\n",
    "import copy\n",
    "\n",
    "import numpy as np\n",
    "\n",
    "import math\n",
    "\n",
    "import numpy"
   ]
  },
  {
   "cell_type": "code",
   "execution_count": null,
   "metadata": {},
   "outputs": [],
   "source": [
    "org_data = pd.read_excel('/Users/sinjhanghuang/Documents/碩士畢業論文/柏凱聯合論文/柏凱合作文章2011-2015（整合版）/lpcr2comp2_all_data.xlsx')\n",
    "org_data"
   ]
  },
  {
   "cell_type": "code",
   "execution_count": null,
   "metadata": {},
   "outputs": [],
   "source": [
    "# sentiment_regression\n",
    "data_2011_2015 = pd.read_csv('/Users/sinjhanghuang/Documents/碩士畢業論文/柏凱聯合論文/柏凱合作文章2011-2015（整合版）/sentiment_regression.csv')\n",
    "data_2011_2015"
   ]
  },
  {
   "cell_type": "markdown",
   "metadata": {},
   "source": [
    "## Control_variable"
   ]
  },
  {
   "cell_type": "code",
   "execution_count": null,
   "metadata": {},
   "outputs": [],
   "source": [
    "con_var = org_data[['FacilityID','FacilityAmt','ppdummy','maturityday','type4','type3','type2','type1','purpose1',\n",
    "                     'purpose2','purpose3','purpose4','purpose5','AT','profitability','tangibility','mb','leverage',\n",
    "                     'z_score','Spread_new']]"
   ]
  },
  {
   "cell_type": "code",
   "execution_count": null,
   "metadata": {},
   "outputs": [],
   "source": [
    "merge_data = data_2011_2015.merge(con_var, on='FacilityID', how='inner')"
   ]
  },
  {
   "cell_type": "code",
   "execution_count": null,
   "metadata": {},
   "outputs": [],
   "source": [
    "# 將控制變數取log('FacilityAmt','maturityday','AT','Spread_new')\n",
    "merge_data['FacilityAmt'] = merge_data['FacilityAmt'].apply(lambda x: math.log(x))\n",
    "merge_data['maturityday'] = merge_data['maturityday'].apply(lambda x: math.log(x))\n",
    "merge_data['AT'] = merge_data['AT'].apply(lambda x: math.log(x))\n",
    "merge_data['Spread_new'] = merge_data['Spread_new'].apply(lambda x: math.log(x))"
   ]
  },
  {
   "cell_type": "code",
   "execution_count": null,
   "metadata": {},
   "outputs": [],
   "source": [
    "merge_data"
   ]
  },
  {
   "cell_type": "markdown",
   "metadata": {},
   "source": [
    "## 單一平均變數1-30 (control variable)"
   ]
  },
  {
   "cell_type": "code",
   "execution_count": null,
   "metadata": {},
   "outputs": [],
   "source": [
    "merge_data['average_1-30'] = None\n",
    "for i in range(0, len(merge_data)):\n",
    "    merge_data.loc[i, 'average_1-30'] = merge_data.iloc[i, 3:33].mean()"
   ]
  },
  {
   "cell_type": "code",
   "execution_count": null,
   "metadata": {},
   "outputs": [],
   "source": [
    "average_1_30 = merge_data[['FacilityID','Spread_new','FacilityAmt','ppdummy','maturityday','type4','type3','type2','type1','purpose1',\n",
    "                     'purpose2','purpose3','purpose4','purpose5','AT','profitability','tangibility','mb','leverage',\n",
    "                     'z_score','average_1-30']].dropna()\n",
    "average_1_30 = average_1_30.set_index('FacilityID')\n",
    "average_1_30"
   ]
  },
  {
   "cell_type": "code",
   "execution_count": null,
   "metadata": {},
   "outputs": [],
   "source": [
    "# Fit and summarize OLS model\n",
    "# robust\n",
    "mod = sm.OLS(average_1_30['Spread_new'], average_1_30.iloc[:, 1:].astype(float))\n",
    "\n",
    "res = mod.fit(cov_type='HC0')\n",
    "\n",
    "print(res.summary())"
   ]
  },
  {
   "cell_type": "markdown",
   "metadata": {},
   "source": [
    "## 單一平均變數1-60 (control variable)"
   ]
  },
  {
   "cell_type": "code",
   "execution_count": null,
   "metadata": {},
   "outputs": [],
   "source": [
    "merge_data['average_1-60'] = None\n",
    "for i in range(0, len(merge_data)):\n",
    "    merge_data.loc[i, 'average_1-60'] = merge_data.iloc[i, 3:63].mean()"
   ]
  },
  {
   "cell_type": "code",
   "execution_count": null,
   "metadata": {},
   "outputs": [],
   "source": [
    "average_1_60 = merge_data[['FacilityID','Spread_new','FacilityAmt','ppdummy','maturityday','type4','type3','type2','type1','purpose1',\n",
    "                     'purpose2','purpose3','purpose4','purpose5','AT','profitability','tangibility','mb','leverage',\n",
    "                     'z_score','average_1-60']].dropna()\n",
    "average_1_60 = average_1_60.set_index('FacilityID')\n",
    "average_1_60"
   ]
  },
  {
   "cell_type": "code",
   "execution_count": null,
   "metadata": {},
   "outputs": [],
   "source": [
    "# Fit and summarize OLS model\n",
    "# robust\n",
    "mod = sm.OLS(average_1_60['Spread_new'], average_1_60.iloc[:, 1:].astype(float))\n",
    "\n",
    "res = mod.fit(cov_type='HC0')\n",
    "\n",
    "print(res.summary())"
   ]
  },
  {
   "cell_type": "markdown",
   "metadata": {},
   "source": [
    "## 單一平均變數1-90 (control variable)"
   ]
  },
  {
   "cell_type": "code",
   "execution_count": null,
   "metadata": {},
   "outputs": [],
   "source": [
    "merge_data['average_1-90'] = None\n",
    "for i in range(0, len(merge_data)):\n",
    "    merge_data.loc[i, 'average_1-90'] = merge_data.iloc[i, 3:93].mean()"
   ]
  },
  {
   "cell_type": "code",
   "execution_count": null,
   "metadata": {},
   "outputs": [],
   "source": [
    "average_1_90 = merge_data[['FacilityID','Spread_new','FacilityAmt','ppdummy','maturityday','type4','type3','type2','type1','purpose1',\n",
    "                     'purpose2','purpose3','purpose4','purpose5','AT','profitability','tangibility','mb','leverage',\n",
    "                     'z_score','average_1-90']].dropna()\n",
    "average_1_90 = average_1_90.set_index('FacilityID')\n",
    "average_1_90"
   ]
  },
  {
   "cell_type": "code",
   "execution_count": null,
   "metadata": {},
   "outputs": [],
   "source": [
    "# Fit and summarize OLS model\n",
    "# robust\n",
    "mod = sm.OLS(average_1_90['Spread_new'], average_1_90.iloc[:, 1:].astype(float))\n",
    "\n",
    "res = mod.fit(cov_type='HC0')\n",
    "\n",
    "print(res.summary())"
   ]
  },
  {
   "cell_type": "markdown",
   "metadata": {},
   "source": [
    "## 單一平均變數1-120 (control variable)"
   ]
  },
  {
   "cell_type": "code",
   "execution_count": null,
   "metadata": {},
   "outputs": [],
   "source": [
    "merge_data['average_1-120'] = None\n",
    "for i in range(0, len(merge_data)):\n",
    "    merge_data.loc[i, 'average_1-120'] = merge_data.iloc[i, 3:123].mean()"
   ]
  },
  {
   "cell_type": "code",
   "execution_count": null,
   "metadata": {},
   "outputs": [],
   "source": [
    "average_1_120 = merge_data[['FacilityID','Spread_new','FacilityAmt','ppdummy','maturityday','type4','type3','type2','type1','purpose1',\n",
    "                     'purpose2','purpose3','purpose4','purpose5','AT','profitability','tangibility','mb','leverage',\n",
    "                     'z_score','average_1-120']].dropna()\n",
    "average_1_120 = average_1_120.set_index('FacilityID')\n",
    "average_1_120"
   ]
  },
  {
   "cell_type": "code",
   "execution_count": null,
   "metadata": {},
   "outputs": [],
   "source": [
    "# Fit and summarize OLS model\n",
    "# robust\n",
    "mod = sm.OLS(average_1_120['Spread_new'], average_1_120.iloc[:, 1:].astype(float))\n",
    "\n",
    "res = mod.fit(cov_type='HC0')\n",
    "\n",
    "print(res.summary())"
   ]
  },
  {
   "cell_type": "markdown",
   "metadata": {},
   "source": [
    "## 單一平均變數1-150 (control variable)"
   ]
  },
  {
   "cell_type": "code",
   "execution_count": null,
   "metadata": {},
   "outputs": [],
   "source": [
    "merge_data['average_1-150'] = None\n",
    "for i in range(0, len(merge_data)):\n",
    "    merge_data.loc[i, 'average_1-150'] = merge_data.iloc[i, 3:153].mean()"
   ]
  },
  {
   "cell_type": "code",
   "execution_count": null,
   "metadata": {},
   "outputs": [],
   "source": [
    "average_1_150 = merge_data[['FacilityID','Spread_new','FacilityAmt','ppdummy','maturityday','type4','type3','type2','type1','purpose1',\n",
    "                     'purpose2','purpose3','purpose4','purpose5','AT','profitability','tangibility','mb','leverage',\n",
    "                     'z_score','average_1-150']].dropna()\n",
    "average_1_150 = average_1_150.set_index('FacilityID')\n",
    "average_1_150"
   ]
  },
  {
   "cell_type": "code",
   "execution_count": null,
   "metadata": {},
   "outputs": [],
   "source": [
    "# Fit and summarize OLS model\n",
    "# robust\n",
    "mod = sm.OLS(average_1_150['Spread_new'], average_1_150.iloc[:, 1:].astype(float))\n",
    "\n",
    "res = mod.fit(cov_type='HC0')\n",
    "\n",
    "print(res.summary())"
   ]
  },
  {
   "cell_type": "markdown",
   "metadata": {},
   "source": [
    "## 單一平均變數1-180 (control variable)"
   ]
  },
  {
   "cell_type": "code",
   "execution_count": null,
   "metadata": {},
   "outputs": [],
   "source": [
    "merge_data['average_1-180'] = None\n",
    "for i in range(0, len(merge_data)):\n",
    "    merge_data.loc[i, 'average_1-180'] = merge_data.iloc[i, 3:183].mean()"
   ]
  },
  {
   "cell_type": "code",
   "execution_count": null,
   "metadata": {},
   "outputs": [],
   "source": [
    "average_1_180 = merge_data[['FacilityID','Spread_new','FacilityAmt','ppdummy','maturityday','type4','type3','type2','type1','purpose1',\n",
    "                     'purpose2','purpose3','purpose4','purpose5','AT','profitability','tangibility','mb','leverage',\n",
    "                     'z_score','average_1-180']].dropna()\n",
    "average_1_180 = average_1_180.set_index('FacilityID')\n",
    "average_1_180"
   ]
  },
  {
   "cell_type": "code",
   "execution_count": null,
   "metadata": {},
   "outputs": [],
   "source": [
    "# Fit and summarize OLS model\n",
    "# robust\n",
    "mod = sm.OLS(average_1_180['Spread_new'], average_1_180.iloc[:, 1:].astype(float))\n",
    "\n",
    "res = mod.fit(cov_type='HC0')\n",
    "\n",
    "print(res.summary())"
   ]
  }
 ],
 "metadata": {
  "kernelspec": {
   "display_name": "Python 3",
   "language": "python",
   "name": "python3"
  },
  "language_info": {
   "codemirror_mode": {
    "name": "ipython",
    "version": 3
   },
   "file_extension": ".py",
   "mimetype": "text/x-python",
   "name": "python",
   "nbconvert_exporter": "python",
   "pygments_lexer": "ipython3",
   "version": "3.7.6"
  }
 },
 "nbformat": 4,
 "nbformat_minor": 4
}
