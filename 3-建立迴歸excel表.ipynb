{
 "cells": [
  {
   "cell_type": "code",
   "execution_count": null,
   "metadata": {},
   "outputs": [],
   "source": [
    "import os\n",
    "import pandas as pd\n",
    "\n",
    "import nltk\n",
    "from nltk.sentiment import SentimentIntensityAnalyzer\n",
    "from nltk.tokenize import regexp_tokenize\n",
    "from nltk.corpus import stopwords\n",
    "from nltk.tokenize import word_tokenize\n",
    "\n",
    "import dateutil.parser as dparser\n",
    "from datetime import date"
   ]
  },
  {
   "cell_type": "code",
   "execution_count": null,
   "metadata": {},
   "outputs": [],
   "source": [
    "# 公司財務資料\n",
    "org_data = pd.read_excel('/Users/sinjhanghuang/Documents/碩士畢業論文/柏凱聯合論文/柏凱合作文章2011-2015（整合版）/lpcr2comp2_all_data.xlsx')\n",
    "org_data.head()"
   ]
  },
  {
   "cell_type": "code",
   "execution_count": null,
   "metadata": {},
   "outputs": [],
   "source": [
    "data = os.listdir('/Users/sinjhanghuang/Documents/碩士畢業論文/柏凱聯合論文/柏凱合作文章2011-2015（整合版）/2011-2015 sentiment')\n",
    "len(data)"
   ]
  },
  {
   "cell_type": "code",
   "execution_count": null,
   "metadata": {},
   "outputs": [],
   "source": [
    "# 日期轉換格式\n",
    "for i in range(0, len(data)):\n",
    "    df = pd.read_csv('/Users/sinjhanghuang/Documents/碩士畢業論文/柏凱聯合論文/柏凱合作文章2011-2015（整合版）/2011-2015 sentiment/{}'\\\n",
    "                    .format(data[i]))\n",
    "    \n",
    "    df['date'] = df['date'].apply(lambda x:x.replace('Updated','') )\n",
    "    df['date'] = df['date'].apply(lambda x:x.replace('ET','') )\n",
    "    df['date'] = df['date'].apply(lambda x:x.replace('|      WSJ Pro','') )\n",
    "    df['FacilityStartDate'] = None\n",
    "    df['Facility_minus_day'] = None\n",
    "    \n",
    "    df = df[['date','sentiment_score_text','sentiment_text']]# 只留有需要的columns\n",
    "    \n",
    "    for j in range(0, df.shape[0]):\n",
    "        # 加入事件發生日日期\n",
    "        df['FacilityStartDate'] = dparser.parse(org_data[org_data['FacilityID']==int(data[i][0:6])].iloc[0]['FacilityStartDate'])\n",
    "        \n",
    "        try:\n",
    "            df.loc[j,'date'] = dparser.parse(df.loc[j,'date'])   # dparser.parse()轉換日期格式\n",
    "        except:\n",
    "            df.loc[j,'date'] = dparser.parse(df.loc[j,'date'][7:])\n",
    "        \n",
    "        d1 = dparser.parse(str(df['FacilityStartDate'][0]))\n",
    "        d0 = df['date'].iloc[j]\n",
    "        d1 = dparser.parse(str(d1)[:-9])\n",
    "        d0 = dparser.parse(str(d0)[:-9])\n",
    "        delta = d1-d0\n",
    "        df.loc[j,'Facility_minus_day'] = delta.days # delta.days計算事件發生前多少天\n",
    "        \n",
    "        df.to_csv('/Users/sinjhanghuang/Documents/碩士畢業論文/柏凱聯合論文/柏凱合作文章2011-2015（整合版）/2011-2015 sentiment_final/{}'\\\n",
    "                 .format(data[i]), index=False)\n",
    "        \n",
    "    print('完成到:',i)"
   ]
  },
  {
   "cell_type": "code",
   "execution_count": null,
   "metadata": {},
   "outputs": [],
   "source": [
    "# 合併相同日期的情緒分數\n",
    "data1 = os.listdir('/Users/sinjhanghuang/Documents/碩士畢業論文/柏凱聯合論文/柏凱合作文章2011-2015（整合版）/2011-2015 sentiment_final')\n",
    "for i in range(0, len(data1)):\n",
    "    df = pd.read_csv('/Users/sinjhanghuang/Documents/碩士畢業論文/柏凱聯合論文/柏凱合作文章2011-2015（整合版）/2011-2015 sentiment_final/{}'\\\n",
    "                     .format(data1[i]))\n",
    "    aggregate_function = {'sentiment_score_text':'mean'}\n",
    "    df_date = df.groupby(['Facility_minus_day','FacilityStartDate']).aggregate(aggregate_function)\n",
    "    df_date = df_date.reset_index()\n",
    "    \n",
    "    df_date.to_csv('/Users/sinjhanghuang/Documents/碩士畢業論文/柏凱聯合論文/柏凱合作文章2011-2015（整合版）/2011-2015 sentiment_final/{}'\\\n",
    "                   .format(data1[i]),index=False)"
   ]
  },
  {
   "cell_type": "code",
   "execution_count": null,
   "metadata": {},
   "outputs": [],
   "source": [
    "# 刪除某資料夾下的.DS_store\n",
    "# os.system(\"/Users/sinjhanghuang/Documents/碩士畢業論文/柏凱聯合論文/柏凱合作文章2011-2015（整合版）/2011-2015 sentiment_final\" -name .DS_Store | xargs rm -rf')"
   ]
  },
  {
   "cell_type": "code",
   "execution_count": null,
   "metadata": {},
   "outputs": [],
   "source": [
    "# 將各檔案新聞分數整合成表格\n",
    "data1 = os.listdir('/Users/sinjhanghuang/Documents/碩士畢業論文/柏凱聯合論文/柏凱合作文章2011-2015（整合版）/2011-2015 sentiment_final')\n",
    "\n",
    "a = list(a for a in range(181))\n",
    "b = ['FacilityID','FacilityStartDate']\n",
    "c = b+a\n",
    "df_1 = pd.DataFrame(columns=c)\n",
    "\n",
    "for i in range(0, len(data1)):\n",
    "    df = pd.read_csv('/Users/sinjhanghuang/Documents/碩士畢業論文/柏凱聯合論文/柏凱合作文章2011-2015（整合版）/2011-2015 sentiment_final/{}'\\\n",
    "                     .format(data1[i]))\n",
    "    df = df.drop(columns=['FacilityStartDate'])\n",
    "    df = df.sort_values(by=['Facility_minus_day'],ascending=True) # DataFrame排序\n",
    "    df = df.set_index('Facility_minus_day')\n",
    "    df = df.T\n",
    "    # append格式(df_1)與資料(df)\n",
    "    df_1 = df_1.append(df, ignore_index = True)\n",
    "    \n",
    "    df_1.loc[i,'FacilityID'] = data1[i][0:6]\n",
    "    df_2 = pd.read_csv('/Users/sinjhanghuang/Documents/碩士畢業論文/柏凱聯合論文/柏凱合作文章2011-2015（整合版）/2011-2015 sentiment_final/{}'\\\n",
    "                       .format(data1[i]))\n",
    "    df_1.loc[i,'FacilityStartDate'] = df_2['FacilityStartDate'][0]"
   ]
  },
  {
   "cell_type": "code",
   "execution_count": null,
   "metadata": {},
   "outputs": [],
   "source": [
    "# 資料完成後調整用\n",
    "cols = df_1.columns.tolist()\n",
    "cols = cols[-2:] + cols[:-2]\n",
    "df_1 = df_1[cols]\n",
    "df_1 = df_1.drop(columns=0)\n",
    "df_1"
   ]
  },
  {
   "cell_type": "code",
   "execution_count": null,
   "metadata": {},
   "outputs": [],
   "source": [
    "# values都為nltk_sentiment原始分數\n",
    "df_1.to_csv('sentiment_regression.csv', index=False)"
   ]
  }
 ],
 "metadata": {
  "kernelspec": {
   "display_name": "Python 3",
   "language": "python",
   "name": "python3"
  },
  "language_info": {
   "codemirror_mode": {
    "name": "ipython",
    "version": 3
   },
   "file_extension": ".py",
   "mimetype": "text/x-python",
   "name": "python",
   "nbconvert_exporter": "python",
   "pygments_lexer": "ipython3",
   "version": "3.7.6"
  }
 },
 "nbformat": 4,
 "nbformat_minor": 4
}
