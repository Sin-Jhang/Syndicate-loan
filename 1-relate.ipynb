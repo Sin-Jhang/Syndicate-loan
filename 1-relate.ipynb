{
 "cells": [
  {
   "cell_type": "code",
   "execution_count": 1,
   "metadata": {},
   "outputs": [],
   "source": [
    "import os\n",
    "import pandas as pd"
   ]
  },
  {
   "cell_type": "code",
   "execution_count": 99,
   "metadata": {},
   "outputs": [
    {
     "data": {
      "text/plain": [
       "4370"
      ]
     },
     "execution_count": 99,
     "metadata": {},
     "output_type": "execute_result"
    }
   ],
   "source": [
    "article = os.listdir('/Users/sinjhanghuang/Documents/碩士畢業論文/柏凱聯合論文/柏凱合作文章2011-2015（整合版）/2011-2015')\n",
    "len(article)"
   ]
  },
  {
   "cell_type": "code",
   "execution_count": 100,
   "metadata": {},
   "outputs": [
    {
     "data": {
      "text/html": [
       "<div>\n",
       "<style scoped>\n",
       "    .dataframe tbody tr th:only-of-type {\n",
       "        vertical-align: middle;\n",
       "    }\n",
       "\n",
       "    .dataframe tbody tr th {\n",
       "        vertical-align: top;\n",
       "    }\n",
       "\n",
       "    .dataframe thead th {\n",
       "        text-align: right;\n",
       "    }\n",
       "</style>\n",
       "<table border=\"1\" class=\"dataframe\">\n",
       "  <thead>\n",
       "    <tr style=\"text-align: right;\">\n",
       "      <th></th>\n",
       "      <th>FacilityID</th>\n",
       "      <th>FacilityStartDate</th>\n",
       "      <th>company</th>\n",
       "      <th>company_clear</th>\n",
       "    </tr>\n",
       "  </thead>\n",
       "  <tbody>\n",
       "    <tr>\n",
       "      <th>0</th>\n",
       "      <td>270792</td>\n",
       "      <td>04/12/2011</td>\n",
       "      <td>AAR Corp</td>\n",
       "      <td>AAR</td>\n",
       "    </tr>\n",
       "    <tr>\n",
       "      <th>1</th>\n",
       "      <td>340002</td>\n",
       "      <td>03/24/2015</td>\n",
       "      <td>AAR Corp</td>\n",
       "      <td>AAR</td>\n",
       "    </tr>\n",
       "    <tr>\n",
       "      <th>2</th>\n",
       "      <td>302944</td>\n",
       "      <td>06/21/2013</td>\n",
       "      <td>American Airlines Inc</td>\n",
       "      <td>American Airlines</td>\n",
       "    </tr>\n",
       "    <tr>\n",
       "      <th>3</th>\n",
       "      <td>307808</td>\n",
       "      <td>08/01/2013</td>\n",
       "      <td>American Airlines Inc</td>\n",
       "      <td>American Airlines</td>\n",
       "    </tr>\n",
       "    <tr>\n",
       "      <th>4</th>\n",
       "      <td>313900</td>\n",
       "      <td>12/17/2013</td>\n",
       "      <td>American Airlines Inc</td>\n",
       "      <td>American Airlines</td>\n",
       "    </tr>\n",
       "    <tr>\n",
       "      <th>...</th>\n",
       "      <td>...</td>\n",
       "      <td>...</td>\n",
       "      <td>...</td>\n",
       "      <td>...</td>\n",
       "    </tr>\n",
       "    <tr>\n",
       "      <th>8560</th>\n",
       "      <td>330733</td>\n",
       "      <td>10/15/2014</td>\n",
       "      <td>Allegion Plc</td>\n",
       "      <td>Allegion</td>\n",
       "    </tr>\n",
       "    <tr>\n",
       "      <th>8561</th>\n",
       "      <td>331142</td>\n",
       "      <td>10/15/2014</td>\n",
       "      <td>Allegion Plc</td>\n",
       "      <td>Allegion</td>\n",
       "    </tr>\n",
       "    <tr>\n",
       "      <th>8562</th>\n",
       "      <td>347655</td>\n",
       "      <td>09/30/2015</td>\n",
       "      <td>Allegion Plc</td>\n",
       "      <td>Allegion</td>\n",
       "    </tr>\n",
       "    <tr>\n",
       "      <th>8563</th>\n",
       "      <td>347656</td>\n",
       "      <td>09/30/2015</td>\n",
       "      <td>Allegion Plc</td>\n",
       "      <td>Allegion</td>\n",
       "    </tr>\n",
       "    <tr>\n",
       "      <th>8564</th>\n",
       "      <td>347657</td>\n",
       "      <td>09/30/2015</td>\n",
       "      <td>Allegion Plc</td>\n",
       "      <td>Allegion</td>\n",
       "    </tr>\n",
       "  </tbody>\n",
       "</table>\n",
       "<p>8565 rows × 4 columns</p>\n",
       "</div>"
      ],
      "text/plain": [
       "      FacilityID FacilityStartDate                company      company_clear\n",
       "0         270792        04/12/2011               AAR Corp                AAR\n",
       "1         340002        03/24/2015               AAR Corp                AAR\n",
       "2         302944        06/21/2013  American Airlines Inc  American Airlines\n",
       "3         307808        08/01/2013  American Airlines Inc  American Airlines\n",
       "4         313900        12/17/2013  American Airlines Inc  American Airlines\n",
       "...          ...               ...                    ...                ...\n",
       "8560      330733        10/15/2014           Allegion Plc           Allegion\n",
       "8561      331142        10/15/2014           Allegion Plc           Allegion\n",
       "8562      347655        09/30/2015           Allegion Plc           Allegion\n",
       "8563      347656        09/30/2015           Allegion Plc           Allegion\n",
       "8564      347657        09/30/2015           Allegion Plc           Allegion\n",
       "\n",
       "[8565 rows x 4 columns]"
      ]
     },
     "execution_count": 100,
     "metadata": {},
     "output_type": "execute_result"
    }
   ],
   "source": [
    "all_data = pd.read_excel('/Users/sinjhanghuang/Documents/碩士畢業論文/柏凱聯合論文/柏凱合作文章2011-2015（整合版）/2011-2015 company_name_clear.xlsx')\n",
    "all_data"
   ]
  },
  {
   "cell_type": "code",
   "execution_count": 102,
   "metadata": {},
   "outputs": [],
   "source": [
    "for i in range(0,len(article)):\n",
    "    data = pd.read_csv('/Users/sinjhanghuang/Documents/碩士畢業論文/柏凱聯合論文/柏凱合作文章2011-2015（整合版）/2011-2015/{}'\\\n",
    "                       .format(article[i]))\n",
    "    data['head_related'] = 0\n",
    "    data['text_related'] = 0\n",
    "    \n",
    "    a = list(all_data['FacilityID']).index(int(article[i][:6]))\n",
    "    \n",
    "    for j in range(0,data.shape[0]):\n",
    "#         all_data.iloc[a]['company_clear'] in str(data['head'][j])\n",
    "        if all_data.iloc[a]['company_clear'] in str(data['head'][j]):\n",
    "            data.loc[j, 'head_related'] = 1\n",
    "        else :\n",
    "            data.loc[j, 'head_related'] = 0\n",
    "            \n",
    "    for k in range(0,data.shape[0]):\n",
    "#         all_data.iloc[a]['company_clear'] in str(data['text'][j])\n",
    "        if all_data.iloc[a]['company_clear'] in str(data['text'][k]):\n",
    "            data.loc[k, 'text_related'] = 1\n",
    "        else:\n",
    "            data.loc[k, 'text_related'] = 0\n",
    "    data.to_csv('/Users/sinjhanghuang/Documents/碩士畢業論文/柏凱聯合論文/柏凱合作文章2011-2015（整合版）/2011-2015/{}'\\\n",
    "                .format(article[i]), index=False)"
   ]
  },
  {
   "cell_type": "code",
   "execution_count": 92,
   "metadata": {},
   "outputs": [
    {
     "name": "stdout",
     "output_type": "stream",
     "text": [
      "2120\n",
      "322657.csv\n"
     ]
    }
   ],
   "source": [
    "print(i)\n",
    "print(article[i])"
   ]
  },
  {
   "cell_type": "code",
   "execution_count": null,
   "metadata": {},
   "outputs": [],
   "source": [
    "# # 使用另一種方式寫\n",
    "# all_data['company_clear'][all_data['FacilityID']==int(article[0][:6])].values[0]"
   ]
  },
  {
   "cell_type": "code",
   "execution_count": null,
   "metadata": {},
   "outputs": [],
   "source": []
  },
  {
   "cell_type": "code",
   "execution_count": null,
   "metadata": {},
   "outputs": [],
   "source": []
  },
  {
   "cell_type": "code",
   "execution_count": null,
   "metadata": {},
   "outputs": [],
   "source": []
  }
 ],
 "metadata": {
  "kernelspec": {
   "display_name": "Python 3",
   "language": "python",
   "name": "python3"
  },
  "language_info": {
   "codemirror_mode": {
    "name": "ipython",
    "version": 3
   },
   "file_extension": ".py",
   "mimetype": "text/x-python",
   "name": "python",
   "nbconvert_exporter": "python",
   "pygments_lexer": "ipython3",
   "version": "3.9.7"
  },
  "vscode": {
   "interpreter": {
    "hash": "397704579725e15f5c7cb49fe5f0341eb7531c82d19f2c29d197e8b64ab5776b"
   }
  }
 },
 "nbformat": 4,
 "nbformat_minor": 4
}
